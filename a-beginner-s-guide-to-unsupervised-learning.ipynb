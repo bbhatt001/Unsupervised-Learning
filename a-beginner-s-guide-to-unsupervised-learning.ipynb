{
 "cells": [
  {
   "cell_type": "markdown",
   "metadata": {
    "_uuid": "7fdbf595340c836e89cc2192f9d8ce900268bfbe"
   },
   "source": [
    "# Introduction\n",
    "Machine learning can be of four types- Supervised, Unsupervised, Semi-supervised and Reinforcement learning. Unlike Supervised learning, Unsupervised learning has features measured for n observations but has no response, i.e., we have unlabeled training data. In this situation we cannot predict a response (as there is no response variable) and therefore we are left with the task of finding interesting patterns in the data. Some of the important unsupervised learning algorithms are - Clustering, Principal Component Analysis(PCA) and Association Rule learning. In this kernel we will explore Clustering and PCA. In case you are interested about Association Rule Learning, please check this [kernel](https://www.kaggle.com/bbhatt001/bakery-business-model-association-rules). "
   ]
  },
  {
   "cell_type": "markdown",
   "metadata": {
    "_uuid": "b411c8ff879d79afc0194323a88ab5a6b01c62ef"
   },
   "source": [
    "## Clustering Algorithm\n",
    "Clustering involves various techniques to find clusters or subgroups in the dataset. In this kernel we will discuss about **K-means clustering** and **hierarchical clustering**.\n",
    "For the purpose of understanding of Clustering Algorithm we will be using Iris dataset ."
   ]
  },
  {
   "cell_type": "markdown",
   "metadata": {
    "_uuid": "3c7ab82cc7e027957546bbba75a3f4f430a29f64"
   },
   "source": [
    "Lets begin our study with the usual imports and read the data."
   ]
  },
  {
   "cell_type": "code",
   "execution_count": 1,
   "metadata": {
    "_cell_guid": "b1076dfc-b9ad-4769-8c92-a6c4dae69d19",
    "_uuid": "8f2839f25d086af736a60e9eeb907d3b93b6e0e5"
   },
   "outputs": [],
   "source": [
    "import numpy as np \n",
    "import pandas as pd \n",
    "%matplotlib inline\n",
    "import matplotlib.pyplot as plt\n",
    "import seaborn as sns\n",
    "import warnings\n",
    "warnings.filterwarnings('ignore')\n",
    "pd.set_option('display.max_rows', None, 'display.max_columns', None)"
   ]
  },
  {
   "cell_type": "markdown",
   "metadata": {
    "_uuid": "0adcf08c0b1e0b2ff463dd9cba8586d36fc7fc7d"
   },
   "source": [
    "This dataset has 150 observations, 4 columns- sepal length, sepal width, petal length, petal width and 3 response - *Iris setosa*,  *Iris versicolor*, *Iris virginica*. Good thing- it has no missing data!"
   ]
  },
  {
   "cell_type": "code",
   "execution_count": 2,
   "metadata": {
    "_cell_guid": "79c7e3d0-c299-4dcb-8224-4455121ee9b0",
    "_uuid": "d629ff2d2480ee46fbb7e2d37f6b5fab8052498a"
   },
   "outputs": [
    {
     "data": {
      "text/html": [
       "<div>\n",
       "<style scoped>\n",
       "    .dataframe tbody tr th:only-of-type {\n",
       "        vertical-align: middle;\n",
       "    }\n",
       "\n",
       "    .dataframe tbody tr th {\n",
       "        vertical-align: top;\n",
       "    }\n",
       "\n",
       "    .dataframe thead th {\n",
       "        text-align: right;\n",
       "    }\n",
       "</style>\n",
       "<table border=\"1\" class=\"dataframe\">\n",
       "  <thead>\n",
       "    <tr style=\"text-align: right;\">\n",
       "      <th></th>\n",
       "      <th>sepal_length</th>\n",
       "      <th>sepal_width</th>\n",
       "      <th>petal_length</th>\n",
       "      <th>petal_width</th>\n",
       "      <th>species</th>\n",
       "    </tr>\n",
       "  </thead>\n",
       "  <tbody>\n",
       "    <tr>\n",
       "      <th>0</th>\n",
       "      <td>5.1</td>\n",
       "      <td>3.5</td>\n",
       "      <td>1.4</td>\n",
       "      <td>0.2</td>\n",
       "      <td>Iris-setosa</td>\n",
       "    </tr>\n",
       "    <tr>\n",
       "      <th>1</th>\n",
       "      <td>4.9</td>\n",
       "      <td>3.0</td>\n",
       "      <td>1.4</td>\n",
       "      <td>0.2</td>\n",
       "      <td>Iris-setosa</td>\n",
       "    </tr>\n",
       "    <tr>\n",
       "      <th>2</th>\n",
       "      <td>4.7</td>\n",
       "      <td>3.2</td>\n",
       "      <td>1.3</td>\n",
       "      <td>0.2</td>\n",
       "      <td>Iris-setosa</td>\n",
       "    </tr>\n",
       "    <tr>\n",
       "      <th>3</th>\n",
       "      <td>4.6</td>\n",
       "      <td>3.1</td>\n",
       "      <td>1.5</td>\n",
       "      <td>0.2</td>\n",
       "      <td>Iris-setosa</td>\n",
       "    </tr>\n",
       "    <tr>\n",
       "      <th>4</th>\n",
       "      <td>5.0</td>\n",
       "      <td>3.6</td>\n",
       "      <td>1.4</td>\n",
       "      <td>0.2</td>\n",
       "      <td>Iris-setosa</td>\n",
       "    </tr>\n",
       "  </tbody>\n",
       "</table>\n",
       "</div>"
      ],
      "text/plain": [
       "   sepal_length  sepal_width  petal_length  petal_width      species\n",
       "0           5.1          3.5           1.4          0.2  Iris-setosa\n",
       "1           4.9          3.0           1.4          0.2  Iris-setosa\n",
       "2           4.7          3.2           1.3          0.2  Iris-setosa\n",
       "3           4.6          3.1           1.5          0.2  Iris-setosa\n",
       "4           5.0          3.6           1.4          0.2  Iris-setosa"
      ]
     },
     "execution_count": 2,
     "metadata": {},
     "output_type": "execute_result"
    }
   ],
   "source": [
    "data=pd.read_csv('IRIS.csv')\n",
    "data.head()"
   ]
  },
  {
   "cell_type": "code",
   "execution_count": 3,
   "metadata": {
    "_uuid": "ec61a7db78d27dc23c1924ce3f768ec8caa15f2a",
    "scrolled": true
   },
   "outputs": [
    {
     "name": "stdout",
     "output_type": "stream",
     "text": [
      "<class 'pandas.core.frame.DataFrame'>\n",
      "RangeIndex: 150 entries, 0 to 149\n",
      "Data columns (total 5 columns):\n",
      "sepal_length    150 non-null float64\n",
      "sepal_width     150 non-null float64\n",
      "petal_length    150 non-null float64\n",
      "petal_width     150 non-null float64\n",
      "species         150 non-null object\n",
      "dtypes: float64(4), object(1)\n",
      "memory usage: 5.9+ KB\n"
     ]
    }
   ],
   "source": [
    "data.info()"
   ]
  },
  {
   "cell_type": "code",
   "execution_count": 4,
   "metadata": {
    "_uuid": "d8ea1d6a62f04b0a95d1d93e8c7c947851fe5041"
   },
   "outputs": [
    {
     "data": {
      "text/plain": [
       "array(['Iris-setosa', 'Iris-versicolor', 'Iris-virginica'], dtype=object)"
      ]
     },
     "execution_count": 4,
     "metadata": {},
     "output_type": "execute_result"
    }
   ],
   "source": [
    "data['species'].unique()"
   ]
  },
  {
   "cell_type": "code",
   "execution_count": 5,
   "metadata": {
    "_uuid": "4a5f4760a9cc7c50c0e6a3fc4a6c44412694dd56",
    "scrolled": true
   },
   "outputs": [
    {
     "data": {
      "text/html": [
       "<div>\n",
       "<style scoped>\n",
       "    .dataframe tbody tr th:only-of-type {\n",
       "        vertical-align: middle;\n",
       "    }\n",
       "\n",
       "    .dataframe tbody tr th {\n",
       "        vertical-align: top;\n",
       "    }\n",
       "\n",
       "    .dataframe thead th {\n",
       "        text-align: right;\n",
       "    }\n",
       "</style>\n",
       "<table border=\"1\" class=\"dataframe\">\n",
       "  <thead>\n",
       "    <tr style=\"text-align: right;\">\n",
       "      <th></th>\n",
       "      <th>sepal_length</th>\n",
       "      <th>sepal_width</th>\n",
       "      <th>petal_length</th>\n",
       "      <th>petal_width</th>\n",
       "    </tr>\n",
       "  </thead>\n",
       "  <tbody>\n",
       "    <tr>\n",
       "      <th>count</th>\n",
       "      <td>150.000000</td>\n",
       "      <td>150.000000</td>\n",
       "      <td>150.000000</td>\n",
       "      <td>150.000000</td>\n",
       "    </tr>\n",
       "    <tr>\n",
       "      <th>mean</th>\n",
       "      <td>5.843333</td>\n",
       "      <td>3.054000</td>\n",
       "      <td>3.758667</td>\n",
       "      <td>1.198667</td>\n",
       "    </tr>\n",
       "    <tr>\n",
       "      <th>std</th>\n",
       "      <td>0.828066</td>\n",
       "      <td>0.433594</td>\n",
       "      <td>1.764420</td>\n",
       "      <td>0.763161</td>\n",
       "    </tr>\n",
       "    <tr>\n",
       "      <th>min</th>\n",
       "      <td>4.300000</td>\n",
       "      <td>2.000000</td>\n",
       "      <td>1.000000</td>\n",
       "      <td>0.100000</td>\n",
       "    </tr>\n",
       "    <tr>\n",
       "      <th>25%</th>\n",
       "      <td>5.100000</td>\n",
       "      <td>2.800000</td>\n",
       "      <td>1.600000</td>\n",
       "      <td>0.300000</td>\n",
       "    </tr>\n",
       "    <tr>\n",
       "      <th>50%</th>\n",
       "      <td>5.800000</td>\n",
       "      <td>3.000000</td>\n",
       "      <td>4.350000</td>\n",
       "      <td>1.300000</td>\n",
       "    </tr>\n",
       "    <tr>\n",
       "      <th>75%</th>\n",
       "      <td>6.400000</td>\n",
       "      <td>3.300000</td>\n",
       "      <td>5.100000</td>\n",
       "      <td>1.800000</td>\n",
       "    </tr>\n",
       "    <tr>\n",
       "      <th>max</th>\n",
       "      <td>7.900000</td>\n",
       "      <td>4.400000</td>\n",
       "      <td>6.900000</td>\n",
       "      <td>2.500000</td>\n",
       "    </tr>\n",
       "  </tbody>\n",
       "</table>\n",
       "</div>"
      ],
      "text/plain": [
       "       sepal_length  sepal_width  petal_length  petal_width\n",
       "count    150.000000   150.000000    150.000000   150.000000\n",
       "mean       5.843333     3.054000      3.758667     1.198667\n",
       "std        0.828066     0.433594      1.764420     0.763161\n",
       "min        4.300000     2.000000      1.000000     0.100000\n",
       "25%        5.100000     2.800000      1.600000     0.300000\n",
       "50%        5.800000     3.000000      4.350000     1.300000\n",
       "75%        6.400000     3.300000      5.100000     1.800000\n",
       "max        7.900000     4.400000      6.900000     2.500000"
      ]
     },
     "execution_count": 5,
     "metadata": {},
     "output_type": "execute_result"
    }
   ],
   "source": [
    "data.describe()"
   ]
  },
  {
   "cell_type": "markdown",
   "metadata": {
    "_uuid": "8df52234037e5125a544935132d91ab0f800082c"
   },
   "source": [
    "To understand how clustering works we have to create a dataset that lacks the response. Hence, I have dropped the 'species' column from our features."
   ]
  },
  {
   "cell_type": "code",
   "execution_count": 6,
   "metadata": {
    "_uuid": "d00d9c87572472050f31960ab315870ece274f06",
    "scrolled": false
   },
   "outputs": [
    {
     "data": {
      "text/plain": [
       "(150, 4)"
      ]
     },
     "execution_count": 6,
     "metadata": {},
     "output_type": "execute_result"
    }
   ],
   "source": [
    "X=data.drop(['species'],axis=1)\n",
    "X.shape"
   ]
  },
  {
   "cell_type": "markdown",
   "metadata": {
    "_uuid": "cffbe98697e4fd3f658dce2a7c386a3721d7a102"
   },
   "source": [
    "## K-means clustering\n",
    "K-means clustering is a simple approach where we partition our observations in a specified number of non-overlapping clusters. Here, we perform K-means clustering by first deciding the number of clusters='K'. Then we assign each observation to one of these K clusters. The cost function here is the sum of within cluster variation for all the K clusters and our aim is to minimize that. In brief the K-mean algorithm works by first randomly assigning the observations to any of the K-clusters. Then it iterates over the next 2 steps- i). it calculates the centroid for each cluster. A centroid is a vector of mean of p features for all the observations in that particular cluster. ii) then assigning/reassigning the observation to a cluster whose centroid is the nearest to this particular observation. This stops when the results don't change anymore. If we supply new samples, then KMeans remembers the centroids and assign the new samples to the cluster where the centroid is the closest.\n",
    "K-means algorithm gets its name from the process of calculating the centroid from the means of the observations in a cluster."
   ]
  },
  {
   "cell_type": "markdown",
   "metadata": {
    "_uuid": "69dba5ae64ae42888670353d1dc8219fb9e02061"
   },
   "source": [
    "Next, we play with KMeans which is implemented in scikit learn. We first import KMeans and instantiate a model with the number of clusters equal to 3. We then fit and predict the labels, similar to any other sklearn algorithm. Als, we scale our samples using `StandardScaler`"
   ]
  },
  {
   "cell_type": "code",
   "execution_count": 7,
   "metadata": {
    "_uuid": "201ad053fb75d0f73e3152a6d34f0a0f0f04fa0a",
    "scrolled": true
   },
   "outputs": [
    {
     "name": "stdout",
     "output_type": "stream",
     "text": [
      "[0 0 0 0 0 0 0 0 0 0 0 0 0 0 0 0 0 0 0 0 0 0 0 0 0 0 0 0 0 0 0 0 0 0 0 0 0\n",
      " 0 0 0 0 0 0 0 0 0 0 0 0 0 1 1 1 2 2 2 1 2 2 2 2 2 2 2 2 1 2 2 2 2 1 2 2 2\n",
      " 2 1 1 1 2 2 2 2 2 2 2 1 1 2 2 2 2 2 2 2 2 2 2 2 2 2 1 2 1 1 1 1 2 1 1 1 1\n",
      " 1 1 2 2 1 1 1 1 2 1 2 1 2 1 1 2 1 1 1 1 1 1 2 2 1 1 1 2 1 1 1 2 1 1 1 2 1\n",
      " 1 2]\n"
     ]
    }
   ],
   "source": [
    "from sklearn.cluster import KMeans\n",
    "from sklearn.preprocessing import StandardScaler\n",
    "scaler=StandardScaler()\n",
    "X=scaler.fit_transform(X)\n",
    "model=KMeans(n_clusters=3)\n",
    "model.fit(X)\n",
    "label=model.predict(X)\n",
    "print(label)"
   ]
  },
  {
   "cell_type": "markdown",
   "metadata": {
    "_uuid": "527e5b5459363b10296a4762057efdb1311c397a"
   },
   "source": [
    "Next, I have plotted the Iris observations for Sepal length and petal width. Using KMeans the clusters have been obtained. "
   ]
  },
  {
   "cell_type": "code",
   "execution_count": 8,
   "metadata": {
    "_uuid": "407922fa7218349f02239e2bcb9c1d3a87c27d47",
    "scrolled": true
   },
   "outputs": [
    {
     "data": {
      "text/plain": [
       "<matplotlib.collections.PathCollection at 0x107f5d8d0>"
      ]
     },
     "execution_count": 8,
     "metadata": {},
     "output_type": "execute_result"
    },
    {
     "data": {
      "image/png": "[encoded data removed]",
      "text/plain": [
       "<Figure size 432x288 with 1 Axes>"
      ]
     },
     "metadata": {},
     "output_type": "display_data"
    }
   ],
   "source": [
    "x=X[:,0]\n",
    "y=X[:,3]\n",
    "plt.scatter(x,y,c=label)"
   ]
  },
  {
   "cell_type": "markdown",
   "metadata": {
    "_uuid": "85a40eee8b4da9a24a76e4c1a47b7519b08f2cbe"
   },
   "source": [
    "The question that comes up next is what about the accuracy of the Kmeans clusters. As in unsupervised learning the data is unlabeled, it is hard to answer this question. But, here for Iris we can use the function of crosstabulation to compare the number of species that are correctly labeled into different clusters. For this purpose first we create a dataframe that has a column label containing the labels obtained from Kmeans clusters and the second column that has the response column 'species' from the originial dataset. Then using pandas crosstab function with these columns we can obtain a table. According to this table we can see that the Kmeans clustering works well in detecting *Iris setosa* species but does not work that well for *Iris virginica* (for which it detected 36 in cluster 2 and 14 in cluster 1)."
   ]
  },
  {
   "cell_type": "code",
   "execution_count": 9,
   "metadata": {
    "_uuid": "9572d53d4a167a25b9517e8b992ea2ccbd6194e5",
    "scrolled": true
   },
   "outputs": [
    {
     "data": {
      "text/plain": [
       "0    Iris-setosa\n",
       "1    Iris-setosa\n",
       "2    Iris-setosa\n",
       "3    Iris-setosa\n",
       "4    Iris-setosa\n",
       "Name: species, dtype: object"
      ]
     },
     "execution_count": 9,
     "metadata": {},
     "output_type": "execute_result"
    }
   ],
   "source": [
    "species=data['species']\n",
    "species.head()"
   ]
  },
  {
   "cell_type": "code",
   "execution_count": 10,
   "metadata": {
    "_uuid": "ef34a1d332a76c1ad8979f53306377ce46e5ecaf",
    "scrolled": true
   },
   "outputs": [
    {
     "name": "stdout",
     "output_type": "stream",
     "text": [
      "species  Iris-setosa  Iris-versicolor  Iris-virginica\n",
      "label                                                \n",
      "0                 50                0               0\n",
      "1                  0               11              36\n",
      "2                  0               39              14\n"
     ]
    }
   ],
   "source": [
    "df=pd.DataFrame({'label':label,'species':species})\n",
    "ct= pd.crosstab(df['label'],df['species'])\n",
    "print(ct)"
   ]
  },
  {
   "cell_type": "markdown",
   "metadata": {
    "_uuid": "f543cc60b92b45894a4662667ce23e5f27c63081"
   },
   "source": [
    "### Inertia\n",
    "One of the ways to get an idea about the accuracy of the KMeans clustering is by inertia. Inertia is the measure of distance between each observation and its centroid. It determines how compact the cluster is. Lower the value of inertia better the cluster. The best number of clusters for KMeans clustering can be deduced from inertia. For better clustering we prefer lower inertia that means more number of clusters. Thus, we try to achieve a balance between low inertia and the number of clusters. We want inertia to be low enough but don't want the number of clusters to increase so much that we get individual observations as a cluster. Thus, in a plot of inertia vs number of clusters we pick the value for the number of clusters which decreases the inertia but doesn't lead to too many clusters. This is usually the elbow in the plot.  "
   ]
  },
  {
   "cell_type": "markdown",
   "metadata": {
    "_uuid": "b11de9b94d93defb494c0ad3d6838e38804da504"
   },
   "source": [
    "In the example shown below we first made a list of inertia for corresponding number of clusters and then plotted the two. As observed from the plot, 3 is the right number of clusters for the given plot. "
   ]
  },
  {
   "cell_type": "code",
   "execution_count": 11,
   "metadata": {
    "_uuid": "fb1112d944b602cf5256119c5d651ce0f1c9e5cf",
    "scrolled": true
   },
   "outputs": [
    {
     "data": {
      "image/png": "[encoded data removed]",
      "text/plain": [
       "<Figure size 432x288 with 1 Axes>"
      ]
     },
     "metadata": {},
     "output_type": "display_data"
    }
   ],
   "source": [
    "Inertia = []\n",
    "K = range(1,5)\n",
    "for k in K:\n",
    "    km = KMeans(n_clusters=k)\n",
    "    km = km.fit(X)\n",
    "    Inertia.append(km.inertia_)\n",
    "\n",
    "plt.plot(K, Inertia, 'bx-')\n",
    "plt.xlabel('Number of clusters')\n",
    "plt.ylabel('Inertia')\n",
    "plt.title('Elbow Method For Optimal k')\n",
    "plt.show()"
   ]
  },
  {
   "cell_type": "markdown",
   "metadata": {
    "_uuid": "acc0a38c02dfd66987c099279f6ceae9e32403b9"
   },
   "source": [
    "## Hierarchical clustering \n",
    "Unlike KMeans which needs to be told about the number of clusters to make, hierarchical clustering doesn't need that. It produces a tree like representation of the data that informs the number of clusters and the observations falling in those clusters. This tree like structure is called a **dendrogram**. Here, we will discuss **agglomerative clustering** which is indicated by an upside down tree. As we move up this tree, leaves start to fuse/merge together into braches indicating that these are similar observations. As we move higher up, braches or banches and leaves start merging. The sooner these leaves/branches merge, more similar these observations are. Those observations that merge later, are quite different from each other. The height at which these observations merge indicate how different these observations are. When we are at the bottom of the upside down tree, it is easier to determine if 2 observations are similar enough to merge but as we climb up, we now have to merge clusters. So, how do we determine if the 2 clusters are similar or dissmilar? Here comes the concept of linkage. \n",
    "### Linkage\n",
    "It defines dissmilarity between 2 clusters. Linkage can be of four types-\n",
    "i) **Complete Linkage**- This defines maximal dissimilarity between the clusters.This computes pairwise dissmilarity between the 2 clusters and records the largest dissmilarity.\n",
    "ii) **Single Linkage**- It is opposite of Complete Linkage. Unlike Complete linkage, it defines minimal dissimilarity between the linkage and keeps the smallest dissmilarity between the 2 clusters.\n",
    "iii) **Average Linkage**- This defines mean intercluster dissimilarity. It keeps the average of all dissimilarities.\n",
    "iv). **Centroid Linkage**- As the name indicates, it calculates dissimilarity between centroids of the 2 clusters\n",
    "Average and Complete Linkage are the most commonly used Linkage types. But needless to say, that the choice of clustering depends upon the question in hand. "
   ]
  },
  {
   "cell_type": "markdown",
   "metadata": {
    "_uuid": "458224a7ff9ef61658909c7b871ed177e498fbf6"
   },
   "source": [
    "Next, we will see Hierarchical clustering at work. We import dendrogram and linkage from scipy. We use Complete linkage here. Feel free to play with the different linkage methods and see how they affect the dendrograms.  I have labeled the leaves with the dataframe's index. You can also put a threshold line, if you want to separate the major clusters. Here, I have put a threshold line at height=5 to separate out the 3 major clusters."
   ]
  },
  {
   "cell_type": "code",
   "execution_count": 12,
   "metadata": {
    "_uuid": "97e73aae2edd1dc192c847a79fdd949229545ab3"
   },
   "outputs": [
    {
     "data": {
      "image/png": "[encoded data removed]",
      "text/plain": [
       "<Figure size 1296x576 with 1 Axes>"
      ]
     },
     "metadata": {},
     "output_type": "display_data"
    }
   ],
   "source": [
    "from scipy.cluster.hierarchy import linkage,dendrogram, fcluster\n",
    "fig, ax= plt.subplots(figsize=(18,8))\n",
    "mergings=linkage(X,method='complete')\n",
    "dendrogram(mergings,  leaf_rotation=90,leaf_font_size=7)\n",
    "plt.axhline(y=5, c='grey', lw=1, linestyle='dashed')\n",
    "plt.show()"
   ]
  },
  {
   "cell_type": "markdown",
   "metadata": {
    "_uuid": "8c6b788c0688fe364da4fdcd80919ae233733fc5"
   },
   "source": [
    "When there are many observations, the leaves become unreadable. In that case, we have to truncate the dendrogram to a readable size. We can decide the level in which case, no more than the decided 'p' level is displayed. A truncated part of the above dendrogram is shown here."
   ]
  },
  {
   "cell_type": "code",
   "execution_count": 13,
   "metadata": {
    "_uuid": "9f87ed7fa6865561d605a03a4fbceedb7793b40d"
   },
   "outputs": [
    {
     "data": {
      "image/png": "[encoded data removed]",
      "text/plain": [
       "<Figure size 576x576 with 1 Axes>"
      ]
     },
     "metadata": {},
     "output_type": "display_data"
    }
   ],
   "source": [
    "fig, ax= plt.subplots(figsize=(8,8))\n",
    "dendrogram(mergings, truncate_mode = 'level', p=3,leaf_font_size=7)\n",
    "plt.show()"
   ]
  },
  {
   "cell_type": "markdown",
   "metadata": {
    "_uuid": "c53e20e5bd12d3a0fa551a7661568660e7fa3cc2"
   },
   "source": [
    "In case, you are interested in how well hierarchical clustering has performed then for that I have labeled the leaved with the species name. As you can see that hierarchical clustering has worked well with *Iris setosa* but not for the other 2, as it mislabels/misclusters many *Iris versicolor *species as *Iris virginica*"
   ]
  },
  {
   "cell_type": "code",
   "execution_count": 14,
   "metadata": {
    "_uuid": "92f1e1575ffbac2e5413141e575e938d1747b88b",
    "scrolled": false
   },
   "outputs": [
    {
     "data": {
      "image/png": "[encoded data removed]",
      "text/plain": [
       "<Figure size 1296x576 with 1 Axes>"
      ]
     },
     "metadata": {},
     "output_type": "display_data"
    }
   ],
   "source": [
    "data=data.set_index('species')\n",
    "fig, ax= plt.subplots(figsize=(18,8))\n",
    "mergings=linkage(X,method='complete')\n",
    "dendrogram(mergings, labels=data.index, leaf_rotation=90,leaf_font_size=7)\n",
    "plt.show()"
   ]
  },
  {
   "cell_type": "markdown",
   "metadata": {
    "_uuid": "e42c61136b3fa33e7cf0abcff6b5c7e8dbd9cb6a"
   },
   "source": [
    "Another way, to analyse smaller clusters is by using `fcluster`, where we provide the height uptil which we want to see the observations and in which cluster they are falling. Then we create a dataframe with 2 columns - the labels (which is the numpy array of clusters obtained from fcluster operation) and the corresponding response/label in this case the 'species'. Here, I have played with height=3. Cluster 1 has both *Iris versicolor * and  *Iris virginica*. Cluster 5 and 6 have *Iris setosa*. These 2 clusters-5 and 6 will later merge at a height of 4 into a single cluster contain the pure sample of *Iris setosa*."
   ]
  },
  {
   "cell_type": "code",
   "execution_count": 15,
   "metadata": {
    "_uuid": "ea3224fca53332fdba3986f83b137f9b6e1e7033",
    "scrolled": false
   },
   "outputs": [
    {
     "data": {
      "text/html": [
       "<div>\n",
       "<style scoped>\n",
       "    .dataframe tbody tr th:only-of-type {\n",
       "        vertical-align: middle;\n",
       "    }\n",
       "\n",
       "    .dataframe tbody tr th {\n",
       "        vertical-align: top;\n",
       "    }\n",
       "\n",
       "    .dataframe thead th {\n",
       "        text-align: right;\n",
       "    }\n",
       "</style>\n",
       "<table border=\"1\" class=\"dataframe\">\n",
       "  <thead>\n",
       "    <tr style=\"text-align: right;\">\n",
       "      <th></th>\n",
       "      <th>labels</th>\n",
       "      <th>species</th>\n",
       "    </tr>\n",
       "  </thead>\n",
       "  <tbody>\n",
       "    <tr>\n",
       "      <th>74</th>\n",
       "      <td>1</td>\n",
       "      <td>Iris-versicolor</td>\n",
       "    </tr>\n",
       "    <tr>\n",
       "      <th>104</th>\n",
       "      <td>1</td>\n",
       "      <td>Iris-virginica</td>\n",
       "    </tr>\n",
       "    <tr>\n",
       "      <th>103</th>\n",
       "      <td>1</td>\n",
       "      <td>Iris-virginica</td>\n",
       "    </tr>\n",
       "    <tr>\n",
       "      <th>102</th>\n",
       "      <td>1</td>\n",
       "      <td>Iris-virginica</td>\n",
       "    </tr>\n",
       "    <tr>\n",
       "      <th>101</th>\n",
       "      <td>1</td>\n",
       "      <td>Iris-virginica</td>\n",
       "    </tr>\n",
       "    <tr>\n",
       "      <th>100</th>\n",
       "      <td>1</td>\n",
       "      <td>Iris-virginica</td>\n",
       "    </tr>\n",
       "    <tr>\n",
       "      <th>97</th>\n",
       "      <td>1</td>\n",
       "      <td>Iris-versicolor</td>\n",
       "    </tr>\n",
       "    <tr>\n",
       "      <th>96</th>\n",
       "      <td>1</td>\n",
       "      <td>Iris-versicolor</td>\n",
       "    </tr>\n",
       "    <tr>\n",
       "      <th>95</th>\n",
       "      <td>1</td>\n",
       "      <td>Iris-versicolor</td>\n",
       "    </tr>\n",
       "    <tr>\n",
       "      <th>91</th>\n",
       "      <td>1</td>\n",
       "      <td>Iris-versicolor</td>\n",
       "    </tr>\n",
       "    <tr>\n",
       "      <th>88</th>\n",
       "      <td>1</td>\n",
       "      <td>Iris-versicolor</td>\n",
       "    </tr>\n",
       "    <tr>\n",
       "      <th>86</th>\n",
       "      <td>1</td>\n",
       "      <td>Iris-versicolor</td>\n",
       "    </tr>\n",
       "    <tr>\n",
       "      <th>85</th>\n",
       "      <td>1</td>\n",
       "      <td>Iris-versicolor</td>\n",
       "    </tr>\n",
       "    <tr>\n",
       "      <th>108</th>\n",
       "      <td>1</td>\n",
       "      <td>Iris-virginica</td>\n",
       "    </tr>\n",
       "    <tr>\n",
       "      <th>84</th>\n",
       "      <td>1</td>\n",
       "      <td>Iris-versicolor</td>\n",
       "    </tr>\n",
       "    <tr>\n",
       "      <th>78</th>\n",
       "      <td>1</td>\n",
       "      <td>Iris-versicolor</td>\n",
       "    </tr>\n",
       "    <tr>\n",
       "      <th>77</th>\n",
       "      <td>1</td>\n",
       "      <td>Iris-versicolor</td>\n",
       "    </tr>\n",
       "    <tr>\n",
       "      <th>76</th>\n",
       "      <td>1</td>\n",
       "      <td>Iris-versicolor</td>\n",
       "    </tr>\n",
       "    <tr>\n",
       "      <th>75</th>\n",
       "      <td>1</td>\n",
       "      <td>Iris-versicolor</td>\n",
       "    </tr>\n",
       "    <tr>\n",
       "      <th>148</th>\n",
       "      <td>1</td>\n",
       "      <td>Iris-virginica</td>\n",
       "    </tr>\n",
       "    <tr>\n",
       "      <th>73</th>\n",
       "      <td>1</td>\n",
       "      <td>Iris-versicolor</td>\n",
       "    </tr>\n",
       "    <tr>\n",
       "      <th>72</th>\n",
       "      <td>1</td>\n",
       "      <td>Iris-versicolor</td>\n",
       "    </tr>\n",
       "    <tr>\n",
       "      <th>71</th>\n",
       "      <td>1</td>\n",
       "      <td>Iris-versicolor</td>\n",
       "    </tr>\n",
       "    <tr>\n",
       "      <th>70</th>\n",
       "      <td>1</td>\n",
       "      <td>Iris-versicolor</td>\n",
       "    </tr>\n",
       "    <tr>\n",
       "      <th>66</th>\n",
       "      <td>1</td>\n",
       "      <td>Iris-versicolor</td>\n",
       "    </tr>\n",
       "    <tr>\n",
       "      <th>65</th>\n",
       "      <td>1</td>\n",
       "      <td>Iris-versicolor</td>\n",
       "    </tr>\n",
       "    <tr>\n",
       "      <th>64</th>\n",
       "      <td>1</td>\n",
       "      <td>Iris-versicolor</td>\n",
       "    </tr>\n",
       "    <tr>\n",
       "      <th>83</th>\n",
       "      <td>1</td>\n",
       "      <td>Iris-versicolor</td>\n",
       "    </tr>\n",
       "    <tr>\n",
       "      <th>63</th>\n",
       "      <td>1</td>\n",
       "      <td>Iris-versicolor</td>\n",
       "    </tr>\n",
       "    <tr>\n",
       "      <th>110</th>\n",
       "      <td>1</td>\n",
       "      <td>Iris-virginica</td>\n",
       "    </tr>\n",
       "    <tr>\n",
       "      <th>112</th>\n",
       "      <td>1</td>\n",
       "      <td>Iris-virginica</td>\n",
       "    </tr>\n",
       "    <tr>\n",
       "      <th>147</th>\n",
       "      <td>1</td>\n",
       "      <td>Iris-virginica</td>\n",
       "    </tr>\n",
       "    <tr>\n",
       "      <th>146</th>\n",
       "      <td>1</td>\n",
       "      <td>Iris-virginica</td>\n",
       "    </tr>\n",
       "    <tr>\n",
       "      <th>145</th>\n",
       "      <td>1</td>\n",
       "      <td>Iris-virginica</td>\n",
       "    </tr>\n",
       "    <tr>\n",
       "      <th>144</th>\n",
       "      <td>1</td>\n",
       "      <td>Iris-virginica</td>\n",
       "    </tr>\n",
       "    <tr>\n",
       "      <th>143</th>\n",
       "      <td>1</td>\n",
       "      <td>Iris-virginica</td>\n",
       "    </tr>\n",
       "    <tr>\n",
       "      <th>142</th>\n",
       "      <td>1</td>\n",
       "      <td>Iris-virginica</td>\n",
       "    </tr>\n",
       "    <tr>\n",
       "      <th>141</th>\n",
       "      <td>1</td>\n",
       "      <td>Iris-virginica</td>\n",
       "    </tr>\n",
       "    <tr>\n",
       "      <th>140</th>\n",
       "      <td>1</td>\n",
       "      <td>Iris-virginica</td>\n",
       "    </tr>\n",
       "    <tr>\n",
       "      <th>139</th>\n",
       "      <td>1</td>\n",
       "      <td>Iris-virginica</td>\n",
       "    </tr>\n",
       "    <tr>\n",
       "      <th>138</th>\n",
       "      <td>1</td>\n",
       "      <td>Iris-virginica</td>\n",
       "    </tr>\n",
       "    <tr>\n",
       "      <th>137</th>\n",
       "      <td>1</td>\n",
       "      <td>Iris-virginica</td>\n",
       "    </tr>\n",
       "    <tr>\n",
       "      <th>136</th>\n",
       "      <td>1</td>\n",
       "      <td>Iris-virginica</td>\n",
       "    </tr>\n",
       "    <tr>\n",
       "      <th>111</th>\n",
       "      <td>1</td>\n",
       "      <td>Iris-virginica</td>\n",
       "    </tr>\n",
       "    <tr>\n",
       "      <th>134</th>\n",
       "      <td>1</td>\n",
       "      <td>Iris-virginica</td>\n",
       "    </tr>\n",
       "    <tr>\n",
       "      <th>132</th>\n",
       "      <td>1</td>\n",
       "      <td>Iris-virginica</td>\n",
       "    </tr>\n",
       "    <tr>\n",
       "      <th>128</th>\n",
       "      <td>1</td>\n",
       "      <td>Iris-virginica</td>\n",
       "    </tr>\n",
       "    <tr>\n",
       "      <th>127</th>\n",
       "      <td>1</td>\n",
       "      <td>Iris-virginica</td>\n",
       "    </tr>\n",
       "    <tr>\n",
       "      <th>126</th>\n",
       "      <td>1</td>\n",
       "      <td>Iris-virginica</td>\n",
       "    </tr>\n",
       "    <tr>\n",
       "      <th>124</th>\n",
       "      <td>1</td>\n",
       "      <td>Iris-virginica</td>\n",
       "    </tr>\n",
       "    <tr>\n",
       "      <th>123</th>\n",
       "      <td>1</td>\n",
       "      <td>Iris-virginica</td>\n",
       "    </tr>\n",
       "    <tr>\n",
       "      <th>121</th>\n",
       "      <td>1</td>\n",
       "      <td>Iris-virginica</td>\n",
       "    </tr>\n",
       "    <tr>\n",
       "      <th>120</th>\n",
       "      <td>1</td>\n",
       "      <td>Iris-virginica</td>\n",
       "    </tr>\n",
       "    <tr>\n",
       "      <th>116</th>\n",
       "      <td>1</td>\n",
       "      <td>Iris-virginica</td>\n",
       "    </tr>\n",
       "    <tr>\n",
       "      <th>115</th>\n",
       "      <td>1</td>\n",
       "      <td>Iris-virginica</td>\n",
       "    </tr>\n",
       "    <tr>\n",
       "      <th>114</th>\n",
       "      <td>1</td>\n",
       "      <td>Iris-virginica</td>\n",
       "    </tr>\n",
       "    <tr>\n",
       "      <th>113</th>\n",
       "      <td>1</td>\n",
       "      <td>Iris-virginica</td>\n",
       "    </tr>\n",
       "    <tr>\n",
       "      <th>133</th>\n",
       "      <td>1</td>\n",
       "      <td>Iris-virginica</td>\n",
       "    </tr>\n",
       "    <tr>\n",
       "      <th>61</th>\n",
       "      <td>1</td>\n",
       "      <td>Iris-versicolor</td>\n",
       "    </tr>\n",
       "    <tr>\n",
       "      <th>149</th>\n",
       "      <td>1</td>\n",
       "      <td>Iris-virginica</td>\n",
       "    </tr>\n",
       "    <tr>\n",
       "      <th>58</th>\n",
       "      <td>1</td>\n",
       "      <td>Iris-versicolor</td>\n",
       "    </tr>\n",
       "    <tr>\n",
       "      <th>56</th>\n",
       "      <td>1</td>\n",
       "      <td>Iris-versicolor</td>\n",
       "    </tr>\n",
       "    <tr>\n",
       "      <th>54</th>\n",
       "      <td>1</td>\n",
       "      <td>Iris-versicolor</td>\n",
       "    </tr>\n",
       "    <tr>\n",
       "      <th>50</th>\n",
       "      <td>1</td>\n",
       "      <td>Iris-versicolor</td>\n",
       "    </tr>\n",
       "    <tr>\n",
       "      <th>51</th>\n",
       "      <td>1</td>\n",
       "      <td>Iris-versicolor</td>\n",
       "    </tr>\n",
       "    <tr>\n",
       "      <th>52</th>\n",
       "      <td>1</td>\n",
       "      <td>Iris-versicolor</td>\n",
       "    </tr>\n",
       "    <tr>\n",
       "      <th>122</th>\n",
       "      <td>2</td>\n",
       "      <td>Iris-virginica</td>\n",
       "    </tr>\n",
       "    <tr>\n",
       "      <th>135</th>\n",
       "      <td>2</td>\n",
       "      <td>Iris-virginica</td>\n",
       "    </tr>\n",
       "    <tr>\n",
       "      <th>105</th>\n",
       "      <td>2</td>\n",
       "      <td>Iris-virginica</td>\n",
       "    </tr>\n",
       "    <tr>\n",
       "      <th>107</th>\n",
       "      <td>2</td>\n",
       "      <td>Iris-virginica</td>\n",
       "    </tr>\n",
       "    <tr>\n",
       "      <th>131</th>\n",
       "      <td>2</td>\n",
       "      <td>Iris-virginica</td>\n",
       "    </tr>\n",
       "    <tr>\n",
       "      <th>130</th>\n",
       "      <td>2</td>\n",
       "      <td>Iris-virginica</td>\n",
       "    </tr>\n",
       "    <tr>\n",
       "      <th>129</th>\n",
       "      <td>2</td>\n",
       "      <td>Iris-virginica</td>\n",
       "    </tr>\n",
       "    <tr>\n",
       "      <th>125</th>\n",
       "      <td>2</td>\n",
       "      <td>Iris-virginica</td>\n",
       "    </tr>\n",
       "    <tr>\n",
       "      <th>117</th>\n",
       "      <td>2</td>\n",
       "      <td>Iris-virginica</td>\n",
       "    </tr>\n",
       "    <tr>\n",
       "      <th>118</th>\n",
       "      <td>2</td>\n",
       "      <td>Iris-virginica</td>\n",
       "    </tr>\n",
       "    <tr>\n",
       "      <th>109</th>\n",
       "      <td>2</td>\n",
       "      <td>Iris-virginica</td>\n",
       "    </tr>\n",
       "    <tr>\n",
       "      <th>93</th>\n",
       "      <td>3</td>\n",
       "      <td>Iris-versicolor</td>\n",
       "    </tr>\n",
       "    <tr>\n",
       "      <th>98</th>\n",
       "      <td>3</td>\n",
       "      <td>Iris-versicolor</td>\n",
       "    </tr>\n",
       "    <tr>\n",
       "      <th>41</th>\n",
       "      <td>3</td>\n",
       "      <td>Iris-setosa</td>\n",
       "    </tr>\n",
       "    <tr>\n",
       "      <th>60</th>\n",
       "      <td>3</td>\n",
       "      <td>Iris-versicolor</td>\n",
       "    </tr>\n",
       "    <tr>\n",
       "      <th>57</th>\n",
       "      <td>3</td>\n",
       "      <td>Iris-versicolor</td>\n",
       "    </tr>\n",
       "    <tr>\n",
       "      <th>81</th>\n",
       "      <td>4</td>\n",
       "      <td>Iris-versicolor</td>\n",
       "    </tr>\n",
       "    <tr>\n",
       "      <th>80</th>\n",
       "      <td>4</td>\n",
       "      <td>Iris-versicolor</td>\n",
       "    </tr>\n",
       "    <tr>\n",
       "      <th>99</th>\n",
       "      <td>4</td>\n",
       "      <td>Iris-versicolor</td>\n",
       "    </tr>\n",
       "    <tr>\n",
       "      <th>53</th>\n",
       "      <td>4</td>\n",
       "      <td>Iris-versicolor</td>\n",
       "    </tr>\n",
       "    <tr>\n",
       "      <th>69</th>\n",
       "      <td>4</td>\n",
       "      <td>Iris-versicolor</td>\n",
       "    </tr>\n",
       "    <tr>\n",
       "      <th>68</th>\n",
       "      <td>4</td>\n",
       "      <td>Iris-versicolor</td>\n",
       "    </tr>\n",
       "    <tr>\n",
       "      <th>67</th>\n",
       "      <td>4</td>\n",
       "      <td>Iris-versicolor</td>\n",
       "    </tr>\n",
       "    <tr>\n",
       "      <th>94</th>\n",
       "      <td>4</td>\n",
       "      <td>Iris-versicolor</td>\n",
       "    </tr>\n",
       "    <tr>\n",
       "      <th>106</th>\n",
       "      <td>4</td>\n",
       "      <td>Iris-virginica</td>\n",
       "    </tr>\n",
       "    <tr>\n",
       "      <th>92</th>\n",
       "      <td>4</td>\n",
       "      <td>Iris-versicolor</td>\n",
       "    </tr>\n",
       "    <tr>\n",
       "      <th>90</th>\n",
       "      <td>4</td>\n",
       "      <td>Iris-versicolor</td>\n",
       "    </tr>\n",
       "    <tr>\n",
       "      <th>89</th>\n",
       "      <td>4</td>\n",
       "      <td>Iris-versicolor</td>\n",
       "    </tr>\n",
       "    <tr>\n",
       "      <th>55</th>\n",
       "      <td>4</td>\n",
       "      <td>Iris-versicolor</td>\n",
       "    </tr>\n",
       "    <tr>\n",
       "      <th>87</th>\n",
       "      <td>4</td>\n",
       "      <td>Iris-versicolor</td>\n",
       "    </tr>\n",
       "    <tr>\n",
       "      <th>79</th>\n",
       "      <td>4</td>\n",
       "      <td>Iris-versicolor</td>\n",
       "    </tr>\n",
       "    <tr>\n",
       "      <th>62</th>\n",
       "      <td>4</td>\n",
       "      <td>Iris-versicolor</td>\n",
       "    </tr>\n",
       "    <tr>\n",
       "      <th>119</th>\n",
       "      <td>4</td>\n",
       "      <td>Iris-virginica</td>\n",
       "    </tr>\n",
       "    <tr>\n",
       "      <th>82</th>\n",
       "      <td>4</td>\n",
       "      <td>Iris-versicolor</td>\n",
       "    </tr>\n",
       "    <tr>\n",
       "      <th>59</th>\n",
       "      <td>4</td>\n",
       "      <td>Iris-versicolor</td>\n",
       "    </tr>\n",
       "    <tr>\n",
       "      <th>16</th>\n",
       "      <td>5</td>\n",
       "      <td>Iris-setosa</td>\n",
       "    </tr>\n",
       "    <tr>\n",
       "      <th>15</th>\n",
       "      <td>5</td>\n",
       "      <td>Iris-setosa</td>\n",
       "    </tr>\n",
       "    <tr>\n",
       "      <th>18</th>\n",
       "      <td>5</td>\n",
       "      <td>Iris-setosa</td>\n",
       "    </tr>\n",
       "    <tr>\n",
       "      <th>14</th>\n",
       "      <td>5</td>\n",
       "      <td>Iris-setosa</td>\n",
       "    </tr>\n",
       "    <tr>\n",
       "      <th>5</th>\n",
       "      <td>5</td>\n",
       "      <td>Iris-setosa</td>\n",
       "    </tr>\n",
       "    <tr>\n",
       "      <th>33</th>\n",
       "      <td>5</td>\n",
       "      <td>Iris-setosa</td>\n",
       "    </tr>\n",
       "    <tr>\n",
       "      <th>32</th>\n",
       "      <td>5</td>\n",
       "      <td>Iris-setosa</td>\n",
       "    </tr>\n",
       "    <tr>\n",
       "      <th>19</th>\n",
       "      <td>6</td>\n",
       "      <td>Iris-setosa</td>\n",
       "    </tr>\n",
       "    <tr>\n",
       "      <th>6</th>\n",
       "      <td>6</td>\n",
       "      <td>Iris-setosa</td>\n",
       "    </tr>\n",
       "    <tr>\n",
       "      <th>7</th>\n",
       "      <td>6</td>\n",
       "      <td>Iris-setosa</td>\n",
       "    </tr>\n",
       "    <tr>\n",
       "      <th>8</th>\n",
       "      <td>6</td>\n",
       "      <td>Iris-setosa</td>\n",
       "    </tr>\n",
       "    <tr>\n",
       "      <th>9</th>\n",
       "      <td>6</td>\n",
       "      <td>Iris-setosa</td>\n",
       "    </tr>\n",
       "    <tr>\n",
       "      <th>20</th>\n",
       "      <td>6</td>\n",
       "      <td>Iris-setosa</td>\n",
       "    </tr>\n",
       "    <tr>\n",
       "      <th>2</th>\n",
       "      <td>6</td>\n",
       "      <td>Iris-setosa</td>\n",
       "    </tr>\n",
       "    <tr>\n",
       "      <th>11</th>\n",
       "      <td>6</td>\n",
       "      <td>Iris-setosa</td>\n",
       "    </tr>\n",
       "    <tr>\n",
       "      <th>12</th>\n",
       "      <td>6</td>\n",
       "      <td>Iris-setosa</td>\n",
       "    </tr>\n",
       "    <tr>\n",
       "      <th>4</th>\n",
       "      <td>6</td>\n",
       "      <td>Iris-setosa</td>\n",
       "    </tr>\n",
       "    <tr>\n",
       "      <th>3</th>\n",
       "      <td>6</td>\n",
       "      <td>Iris-setosa</td>\n",
       "    </tr>\n",
       "    <tr>\n",
       "      <th>13</th>\n",
       "      <td>6</td>\n",
       "      <td>Iris-setosa</td>\n",
       "    </tr>\n",
       "    <tr>\n",
       "      <th>1</th>\n",
       "      <td>6</td>\n",
       "      <td>Iris-setosa</td>\n",
       "    </tr>\n",
       "    <tr>\n",
       "      <th>17</th>\n",
       "      <td>6</td>\n",
       "      <td>Iris-setosa</td>\n",
       "    </tr>\n",
       "    <tr>\n",
       "      <th>10</th>\n",
       "      <td>6</td>\n",
       "      <td>Iris-setosa</td>\n",
       "    </tr>\n",
       "    <tr>\n",
       "      <th>31</th>\n",
       "      <td>6</td>\n",
       "      <td>Iris-setosa</td>\n",
       "    </tr>\n",
       "    <tr>\n",
       "      <th>22</th>\n",
       "      <td>6</td>\n",
       "      <td>Iris-setosa</td>\n",
       "    </tr>\n",
       "    <tr>\n",
       "      <th>49</th>\n",
       "      <td>6</td>\n",
       "      <td>Iris-setosa</td>\n",
       "    </tr>\n",
       "    <tr>\n",
       "      <th>48</th>\n",
       "      <td>6</td>\n",
       "      <td>Iris-setosa</td>\n",
       "    </tr>\n",
       "    <tr>\n",
       "      <th>47</th>\n",
       "      <td>6</td>\n",
       "      <td>Iris-setosa</td>\n",
       "    </tr>\n",
       "    <tr>\n",
       "      <th>46</th>\n",
       "      <td>6</td>\n",
       "      <td>Iris-setosa</td>\n",
       "    </tr>\n",
       "    <tr>\n",
       "      <th>45</th>\n",
       "      <td>6</td>\n",
       "      <td>Iris-setosa</td>\n",
       "    </tr>\n",
       "    <tr>\n",
       "      <th>44</th>\n",
       "      <td>6</td>\n",
       "      <td>Iris-setosa</td>\n",
       "    </tr>\n",
       "    <tr>\n",
       "      <th>43</th>\n",
       "      <td>6</td>\n",
       "      <td>Iris-setosa</td>\n",
       "    </tr>\n",
       "    <tr>\n",
       "      <th>42</th>\n",
       "      <td>6</td>\n",
       "      <td>Iris-setosa</td>\n",
       "    </tr>\n",
       "    <tr>\n",
       "      <th>40</th>\n",
       "      <td>6</td>\n",
       "      <td>Iris-setosa</td>\n",
       "    </tr>\n",
       "    <tr>\n",
       "      <th>39</th>\n",
       "      <td>6</td>\n",
       "      <td>Iris-setosa</td>\n",
       "    </tr>\n",
       "    <tr>\n",
       "      <th>38</th>\n",
       "      <td>6</td>\n",
       "      <td>Iris-setosa</td>\n",
       "    </tr>\n",
       "    <tr>\n",
       "      <th>37</th>\n",
       "      <td>6</td>\n",
       "      <td>Iris-setosa</td>\n",
       "    </tr>\n",
       "    <tr>\n",
       "      <th>36</th>\n",
       "      <td>6</td>\n",
       "      <td>Iris-setosa</td>\n",
       "    </tr>\n",
       "    <tr>\n",
       "      <th>35</th>\n",
       "      <td>6</td>\n",
       "      <td>Iris-setosa</td>\n",
       "    </tr>\n",
       "    <tr>\n",
       "      <th>34</th>\n",
       "      <td>6</td>\n",
       "      <td>Iris-setosa</td>\n",
       "    </tr>\n",
       "    <tr>\n",
       "      <th>30</th>\n",
       "      <td>6</td>\n",
       "      <td>Iris-setosa</td>\n",
       "    </tr>\n",
       "    <tr>\n",
       "      <th>29</th>\n",
       "      <td>6</td>\n",
       "      <td>Iris-setosa</td>\n",
       "    </tr>\n",
       "    <tr>\n",
       "      <th>28</th>\n",
       "      <td>6</td>\n",
       "      <td>Iris-setosa</td>\n",
       "    </tr>\n",
       "    <tr>\n",
       "      <th>27</th>\n",
       "      <td>6</td>\n",
       "      <td>Iris-setosa</td>\n",
       "    </tr>\n",
       "    <tr>\n",
       "      <th>26</th>\n",
       "      <td>6</td>\n",
       "      <td>Iris-setosa</td>\n",
       "    </tr>\n",
       "    <tr>\n",
       "      <th>25</th>\n",
       "      <td>6</td>\n",
       "      <td>Iris-setosa</td>\n",
       "    </tr>\n",
       "    <tr>\n",
       "      <th>24</th>\n",
       "      <td>6</td>\n",
       "      <td>Iris-setosa</td>\n",
       "    </tr>\n",
       "    <tr>\n",
       "      <th>23</th>\n",
       "      <td>6</td>\n",
       "      <td>Iris-setosa</td>\n",
       "    </tr>\n",
       "    <tr>\n",
       "      <th>21</th>\n",
       "      <td>6</td>\n",
       "      <td>Iris-setosa</td>\n",
       "    </tr>\n",
       "    <tr>\n",
       "      <th>0</th>\n",
       "      <td>6</td>\n",
       "      <td>Iris-setosa</td>\n",
       "    </tr>\n",
       "  </tbody>\n",
       "</table>\n",
       "</div>"
      ],
      "text/plain": [
       "     labels          species\n",
       "74        1  Iris-versicolor\n",
       "104       1   Iris-virginica\n",
       "103       1   Iris-virginica\n",
       "102       1   Iris-virginica\n",
       "101       1   Iris-virginica\n",
       "100       1   Iris-virginica\n",
       "97        1  Iris-versicolor\n",
       "96        1  Iris-versicolor\n",
       "95        1  Iris-versicolor\n",
       "91        1  Iris-versicolor\n",
       "88        1  Iris-versicolor\n",
       "86        1  Iris-versicolor\n",
       "85        1  Iris-versicolor\n",
       "108       1   Iris-virginica\n",
       "84        1  Iris-versicolor\n",
       "78        1  Iris-versicolor\n",
       "77        1  Iris-versicolor\n",
       "76        1  Iris-versicolor\n",
       "75        1  Iris-versicolor\n",
       "148       1   Iris-virginica\n",
       "73        1  Iris-versicolor\n",
       "72        1  Iris-versicolor\n",
       "71        1  Iris-versicolor\n",
       "70        1  Iris-versicolor\n",
       "66        1  Iris-versicolor\n",
       "65        1  Iris-versicolor\n",
       "64        1  Iris-versicolor\n",
       "83        1  Iris-versicolor\n",
       "63        1  Iris-versicolor\n",
       "110       1   Iris-virginica\n",
       "112       1   Iris-virginica\n",
       "147       1   Iris-virginica\n",
       "146       1   Iris-virginica\n",
       "145       1   Iris-virginica\n",
       "144       1   Iris-virginica\n",
       "143       1   Iris-virginica\n",
       "142       1   Iris-virginica\n",
       "141       1   Iris-virginica\n",
       "140       1   Iris-virginica\n",
       "139       1   Iris-virginica\n",
       "138       1   Iris-virginica\n",
       "137       1   Iris-virginica\n",
       "136       1   Iris-virginica\n",
       "111       1   Iris-virginica\n",
       "134       1   Iris-virginica\n",
       "132       1   Iris-virginica\n",
       "128       1   Iris-virginica\n",
       "127       1   Iris-virginica\n",
       "126       1   Iris-virginica\n",
       "124       1   Iris-virginica\n",
       "123       1   Iris-virginica\n",
       "121       1   Iris-virginica\n",
       "120       1   Iris-virginica\n",
       "116       1   Iris-virginica\n",
       "115       1   Iris-virginica\n",
       "114       1   Iris-virginica\n",
       "113       1   Iris-virginica\n",
       "133       1   Iris-virginica\n",
       "61        1  Iris-versicolor\n",
       "149       1   Iris-virginica\n",
       "58        1  Iris-versicolor\n",
       "56        1  Iris-versicolor\n",
       "54        1  Iris-versicolor\n",
       "50        1  Iris-versicolor\n",
       "51        1  Iris-versicolor\n",
       "52        1  Iris-versicolor\n",
       "122       2   Iris-virginica\n",
       "135       2   Iris-virginica\n",
       "105       2   Iris-virginica\n",
       "107       2   Iris-virginica\n",
       "131       2   Iris-virginica\n",
       "130       2   Iris-virginica\n",
       "129       2   Iris-virginica\n",
       "125       2   Iris-virginica\n",
       "117       2   Iris-virginica\n",
       "118       2   Iris-virginica\n",
       "109       2   Iris-virginica\n",
       "93        3  Iris-versicolor\n",
       "98        3  Iris-versicolor\n",
       "41        3      Iris-setosa\n",
       "60        3  Iris-versicolor\n",
       "57        3  Iris-versicolor\n",
       "81        4  Iris-versicolor\n",
       "80        4  Iris-versicolor\n",
       "99        4  Iris-versicolor\n",
       "53        4  Iris-versicolor\n",
       "69        4  Iris-versicolor\n",
       "68        4  Iris-versicolor\n",
       "67        4  Iris-versicolor\n",
       "94        4  Iris-versicolor\n",
       "106       4   Iris-virginica\n",
       "92        4  Iris-versicolor\n",
       "90        4  Iris-versicolor\n",
       "89        4  Iris-versicolor\n",
       "55        4  Iris-versicolor\n",
       "87        4  Iris-versicolor\n",
       "79        4  Iris-versicolor\n",
       "62        4  Iris-versicolor\n",
       "119       4   Iris-virginica\n",
       "82        4  Iris-versicolor\n",
       "59        4  Iris-versicolor\n",
       "16        5      Iris-setosa\n",
       "15        5      Iris-setosa\n",
       "18        5      Iris-setosa\n",
       "14        5      Iris-setosa\n",
       "5         5      Iris-setosa\n",
       "33        5      Iris-setosa\n",
       "32        5      Iris-setosa\n",
       "19        6      Iris-setosa\n",
       "6         6      Iris-setosa\n",
       "7         6      Iris-setosa\n",
       "8         6      Iris-setosa\n",
       "9         6      Iris-setosa\n",
       "20        6      Iris-setosa\n",
       "2         6      Iris-setosa\n",
       "11        6      Iris-setosa\n",
       "12        6      Iris-setosa\n",
       "4         6      Iris-setosa\n",
       "3         6      Iris-setosa\n",
       "13        6      Iris-setosa\n",
       "1         6      Iris-setosa\n",
       "17        6      Iris-setosa\n",
       "10        6      Iris-setosa\n",
       "31        6      Iris-setosa\n",
       "22        6      Iris-setosa\n",
       "49        6      Iris-setosa\n",
       "48        6      Iris-setosa\n",
       "47        6      Iris-setosa\n",
       "46        6      Iris-setosa\n",
       "45        6      Iris-setosa\n",
       "44        6      Iris-setosa\n",
       "43        6      Iris-setosa\n",
       "42        6      Iris-setosa\n",
       "40        6      Iris-setosa\n",
       "39        6      Iris-setosa\n",
       "38        6      Iris-setosa\n",
       "37        6      Iris-setosa\n",
       "36        6      Iris-setosa\n",
       "35        6      Iris-setosa\n",
       "34        6      Iris-setosa\n",
       "30        6      Iris-setosa\n",
       "29        6      Iris-setosa\n",
       "28        6      Iris-setosa\n",
       "27        6      Iris-setosa\n",
       "26        6      Iris-setosa\n",
       "25        6      Iris-setosa\n",
       "24        6      Iris-setosa\n",
       "23        6      Iris-setosa\n",
       "21        6      Iris-setosa\n",
       "0         6      Iris-setosa"
      ]
     },
     "execution_count": 15,
     "metadata": {},
     "output_type": "execute_result"
    }
   ],
   "source": [
    "mergings=linkage(X,method='complete')\n",
    "label_3 = fcluster(mergings, 3, criterion='distance')\n",
    "pairs=pd.DataFrame({'labels':label_3, 'species':species})\n",
    "pairs.sort_values('labels')"
   ]
  },
  {
   "cell_type": "markdown",
   "metadata": {
    "_uuid": "04b6f03720d7aae16bc0a03d1b115779e76c4d9d"
   },
   "source": [
    "## Principal Component Analysis\n",
    "Principal Component Analysis (PCA) is a method of finding principal components in the data that define most of the variance associated with the original data and then using these components to find patterns in the data. It is an unsupervised learning approach as it doesn't employ usage of the response/labels. PCA is basically a dimension reductionality approach as it can shrink the number of variables to only a handful that defines the most variability in the data. It therefore, finds its use in supervised learning when the number of features is huge and not all of these features are interesting. Apart from deriving useful variables for supervised learning, PCA can be used for unsupervised data exploration.\n",
    "\n",
    "Lets understand how PCA can be useful for unsupervised data exploration. Assume that we have n observations with p features. We can represent this data by a 2-D scatterplot. But if the number of p gets larger then we will need p(p-1)/2 scatterplots. In addition, most likely, each plot can give only a small fraction of the total information provided. Thus, to get a better representation we need to shrink the variable size to a low dimensions which can explain most of the variance and at the same time losing minimal information.\n",
    "\n",
    "To explain PCA in a simple way lets assume that we have an p-dimensional dataset i.e., we have p number of features that describe all our observations. Now, imagine if we plot all these observations in this p-dimensional space, then the direction that spans most of the variation in our data gives us the Principal component 1 (PCA1). Then the second direction that spans second most variation in the data gives our Principal component 2 (PCA2) and so on. Thus, by doing this we can pick a few number of directions (that can explain most of the variation in our data) from N-number of dimenions thereby, reducing the dimensionality. This also aids in removing noise as we get rid of the features that do not explain much of variation. Also, I want to point out here that each principal component found is a linear combination of the features present in the original dataset.\n"
   ]
  },
  {
   "cell_type": "markdown",
   "metadata": {
    "_uuid": "f86bffd053086aa2431f092a6c593f7ad7bc9efa"
   },
   "source": [
    "To begin with how to perform PCA, we first need to import PCA . For PCA to work , we need all the variables in the same scale (if they are not originally). This can be done with `StandardScaler` (which we have been done above already). To obtain the best number of features that explain maximum variance we plot number of PCA vs variance explained. Such plot is called a Scree plot. As can be observed 2 PCA features explain most of the variation in this dataset."
   ]
  },
  {
   "cell_type": "code",
   "execution_count": 16,
   "metadata": {
    "_uuid": "e878a8ef7243cc8902d8944ce7df9f04205f82e8",
    "scrolled": true
   },
   "outputs": [
    {
     "data": {
      "text/plain": [
       "(0, 5)"
      ]
     },
     "execution_count": 16,
     "metadata": {},
     "output_type": "execute_result"
    },
    {
     "data": {
      "image/png": "[encoded data removed]",
      "text/plain": [
       "<Figure size 432x288 with 1 Axes>"
      ]
     },
     "metadata": {},
     "output_type": "display_data"
    }
   ],
   "source": [
    "from sklearn.decomposition import PCA\n",
    "pca=PCA().fit(X)\n",
    "plt.plot(np.cumsum(pca.explained_variance_ratio_))\n",
    "plt.xlabel('number of components')\n",
    "plt.ylabel('cumulative explained variance')\n",
    "plt.xlim(0,5,1)"
   ]
  },
  {
   "cell_type": "markdown",
   "metadata": {
    "_uuid": "88ad535093809ca32b80603ed04d136c80c4b6d7"
   },
   "source": [
    "The variance explained by various PCA features can be shown in another way  (as shown below) using a barplot. It is also evident here that most of the variance is explained by the first 2 PCA features."
   ]
  },
  {
   "cell_type": "code",
   "execution_count": 17,
   "metadata": {
    "_uuid": "637c71daa0d025184808c74e8b5754c687e4affd"
   },
   "outputs": [
    {
     "data": {
      "text/plain": [
       "Text(0,0.5,'variance')"
      ]
     },
     "execution_count": 17,
     "metadata": {},
     "output_type": "execute_result"
    },
    {
     "data": {
      "image/png": "[encoded data removed]",
      "text/plain": [
       "<Figure size 432x288 with 1 Axes>"
      ]
     },
     "metadata": {},
     "output_type": "display_data"
    }
   ],
   "source": [
    "pca=PCA().fit(X)\n",
    "features=range(pca.n_components_)\n",
    "plt.bar(features, pca.explained_variance_)\n",
    "plt.xlabel('features')\n",
    "plt.ylabel('variance')"
   ]
  },
  {
   "cell_type": "markdown",
   "metadata": {
    "_uuid": "e8d111a44c34f22ae5ffaa9eda318f94a2e09727"
   },
   "source": [
    "Next, we fit and transform our data."
   ]
  },
  {
   "cell_type": "code",
   "execution_count": 18,
   "metadata": {
    "_uuid": "a7c66230bb4f3c13d5844ceb72471f8e176ebf2d",
    "scrolled": true
   },
   "outputs": [
    {
     "data": {
      "text/plain": [
       "(150, 2)"
      ]
     },
     "execution_count": 18,
     "metadata": {},
     "output_type": "execute_result"
    }
   ],
   "source": [
    "pca=PCA(n_components=2)\n",
    "X_pca=pca.fit_transform(X)\n",
    "X_pca.shape"
   ]
  },
  {
   "cell_type": "markdown",
   "metadata": {
    "_uuid": "5ba59b49bc6e70aa58a3fd13773d12fd2044e72e"
   },
   "source": [
    "Next using PCA transformed data we can plot a scatterplot. Here, it shows 3 distinct clusters using just 2 PCA features."
   ]
  },
  {
   "cell_type": "code",
   "execution_count": 19,
   "metadata": {
    "_uuid": "1eb56bbc86fded3bf6b790533361995f9e5f434f"
   },
   "outputs": [
    {
     "data": {
      "text/plain": [
       "Text(0.5,1,'Iris species after PCA')"
      ]
     },
     "execution_count": 19,
     "metadata": {},
     "output_type": "execute_result"
    },
    {
     "data": {
      "image/png": "[encoded data removed]",
      "text/plain": [
       "<Figure size 432x288 with 1 Axes>"
      ]
     },
     "metadata": {},
     "output_type": "display_data"
    }
   ],
   "source": [
    "x_pca=X_pca[:,0]\n",
    "y_pca=X_pca[:,1]\n",
    "# to color code the clusters, I have number coded the species (this is the form accepted for color slection) \n",
    "d = {'Iris-versicolor':0, 'Iris-virginica':1, 'Iris-setosa':2}\n",
    "labels = [d[spec] for spec in species]\n",
    "plt.scatter(x_pca, y_pca, c=labels)\n",
    "plt.xlabel('PCA_feature_1')\n",
    "plt.ylabel('PCA_feature_2')\n",
    "plt.title('Iris species after PCA' )\n"
   ]
  },
  {
   "cell_type": "markdown",
   "metadata": {
    "_uuid": "47d6c2ebc69772b17d4cfede92b0abfef7a672c5"
   },
   "source": [
    "## Conclusion\n",
    " Unsupervised learning is a challenging but interesting part of machine learning which finds its application in various fields. For example a cancer researcher might be interested in clustering genes based on their expression in some cancer cell types for better understanding of the disease while a marketing person might be interested in finding subgroups of online shoppers based on their purchase history and subsequently targeting shoppers with the items their particular subgroups are interested in or purchased. In short, wherever you fall in the job spectrum, unsupervised learning most likely has something for everyone.\n",
    "I hope you enjoyed and learned something new from this kernel. Thank you for reading!"
   ]
  }
 ],
 "metadata": {
  "kernelspec": {
   "display_name": "Python 3",
   "language": "python",
   "name": "python3"
  },
  "language_info": {
   "codemirror_mode": {
    "name": "ipython",
    "version": 3
   },
   "file_extension": ".py",
   "mimetype": "text/x-python",
   "name": "python",
   "nbconvert_exporter": "python",
   "pygments_lexer": "ipython3",
   "version": "3.6.4"
  }
 },
 "nbformat": 4,
 "nbformat_minor": 1
}
